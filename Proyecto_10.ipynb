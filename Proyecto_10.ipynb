{
 "cells": [
  {
   "cell_type": "markdown",
   "metadata": {},
   "source": [
    "# Proyecto 10"
   ]
  },
  {
   "cell_type": "markdown",
   "metadata": {},
   "source": [
    "## Descripción del proyecto\n",
    "\n",
    "Trabajas en la compañía de extracción de petróleo OilyGiant. Tu tarea es encontrar los mejores lugares donde abrir 200 pozos nuevos de petróleo.\n",
    "\n",
    "**Objetivos:**\n",
    "\n",
    "- Leer los archivos con los parámetros recogidos de pozos petrolíferos en la región seleccionada: calidad de crudo y volumen de reservas.\n",
    "- Crear un modelo para predecir el volumen de reservas en pozos nuevos.\n",
    "- Elegir los pozos petrolíferos que tienen los valores estimados más altos.\n",
    "- Elegir la región con el beneficio total más alto para los pozos petrolíferos seleccionados.\n",
    "- Tienes datos sobre muestras de crudo de tres regiones. Ya se conocen los parámetros de cada pozo petrolero de la región. Crea un modelo que ayude a elegir la región con el mayor margen de beneficio. Analiza los beneficios y riesgos potenciales utilizando la técnica bootstrapping.\n",
    "\n",
    "**Condiciones:**\n",
    "\n",
    "- Solo se debe usar la regresión lineal para el entrenamiento del modelo.\n",
    "- Al explorar la región, se lleva a cabo un estudio de 500 puntos con la selección de los mejores 200 puntos para el cálculo del beneficio.\n",
    "- El presupuesto para el desarrollo de 200 pozos petroleros es de 100 millones de dólares.\n",
    "- Un barril de materias primas genera 4.5 USD de ingresos. El ingreso de una unidad de producto es de 4500 dólares (el volumen de reservas está expresado en miles de barriles).\n",
    "- Después de la evaluación de riesgo, mantén solo las regiones con riesgo de pérdidas inferior al 2.5%. De las que se ajustan a los criterios, se debe seleccionar la región con el beneficio promedio más alto.\n",
    "- Los datos son sintéticos: los detalles del contrato y las características del pozo no se publican.\n",
    "\n",
    "**Descricpión de datos:**\n",
    "\n",
    "Los datos de exploración geológica de las tres regiones se almacenan en archivos:\n",
    "\n",
    "- geo_data_0.csv \n",
    "- geo_data_1.csv \n",
    "- geo_data_2.csv \n",
    "\n",
    "- id — identificador único de pozo de petróleo\n",
    "- f0, f1, f2 — tres características de los puntos (su significado específico no es importante, pero las características en sí son significativas)\n",
    "- product — volumen de reservas en el pozo de petróleo (miles de barriles)."
   ]
  },
  {
   "cell_type": "markdown",
   "metadata": {},
   "source": [
    "## Preparación de datos"
   ]
  },
  {
   "cell_type": "code",
   "execution_count": 3,
   "metadata": {},
   "outputs": [],
   "source": [
    "# Importación de librerías\n",
    "\n",
    "import warnings\n",
    "import pandas as pd\n",
    "import numpy as np\n",
    "from matplotlib import pyplot as plt\n",
    "import seaborn as sns\n",
    "\n",
    "# Preprocesamiento\n",
    "from sklearn.model_selection import train_test_split\n",
    "\n",
    "# Modelo\n",
    "from sklearn.linear_model import LinearRegression\n",
    "\n",
    "# Métricas\n",
    "from sklearn.metrics import mean_squared_error\n",
    "\n",
    "# Omitir advertencias futuras\n",
    "warnings.simplefilter(action='ignore', category=FutureWarning)"
   ]
  },
  {
   "cell_type": "code",
   "execution_count": 4,
   "metadata": {},
   "outputs": [],
   "source": [
    "# Importación de datasets\n",
    "\n",
    "# Región 0\n",
    "region_0 = pd.read_csv('/datasets/geo_data_0.csv')\n",
    "\n",
    "# Región 1\n",
    "region_1 = pd.read_csv('/datasets/geo_data_1.csv')\n",
    "\n",
    "# Región 2\n",
    "region_2 = pd.read_csv('/datasets/geo_data_2.csv')"
   ]
  },
  {
   "cell_type": "markdown",
   "metadata": {},
   "source": [
    "### Exploración de datos: región 0"
   ]
  },
  {
   "cell_type": "code",
   "execution_count": 5,
   "metadata": {},
   "outputs": [],
   "source": [
    "# Función para exploración de datos\n",
    "\n",
    "def explor(data):\n",
    "    # Visualización de datos\n",
    "    display(data)\n",
    "\n",
    "    # Descripcion de datos\n",
    "    print(data.info())\n",
    "\n",
    "    print('\\n')\n",
    "\n",
    "    # Exploración de duplicados totales\n",
    "    print('Duplicados totales:', data.duplicated().sum())\n",
    "\n",
    "    # Duplicados en product\n",
    "    print('Duplicados en columna product:', data['product'].duplicated().sum())\n",
    "\n",
    "    return"
   ]
  },
  {
   "cell_type": "code",
   "execution_count": 6,
   "metadata": {},
   "outputs": [
    {
     "data": {
      "text/html": [
       "<div>\n",
       "<style scoped>\n",
       "    .dataframe tbody tr th:only-of-type {\n",
       "        vertical-align: middle;\n",
       "    }\n",
       "\n",
       "    .dataframe tbody tr th {\n",
       "        vertical-align: top;\n",
       "    }\n",
       "\n",
       "    .dataframe thead th {\n",
       "        text-align: right;\n",
       "    }\n",
       "</style>\n",
       "<table border=\"1\" class=\"dataframe\">\n",
       "  <thead>\n",
       "    <tr style=\"text-align: right;\">\n",
       "      <th></th>\n",
       "      <th>id</th>\n",
       "      <th>f0</th>\n",
       "      <th>f1</th>\n",
       "      <th>f2</th>\n",
       "      <th>product</th>\n",
       "    </tr>\n",
       "  </thead>\n",
       "  <tbody>\n",
       "    <tr>\n",
       "      <th>0</th>\n",
       "      <td>txEyH</td>\n",
       "      <td>0.705745</td>\n",
       "      <td>-0.497823</td>\n",
       "      <td>1.221170</td>\n",
       "      <td>105.280062</td>\n",
       "    </tr>\n",
       "    <tr>\n",
       "      <th>1</th>\n",
       "      <td>2acmU</td>\n",
       "      <td>1.334711</td>\n",
       "      <td>-0.340164</td>\n",
       "      <td>4.365080</td>\n",
       "      <td>73.037750</td>\n",
       "    </tr>\n",
       "    <tr>\n",
       "      <th>2</th>\n",
       "      <td>409Wp</td>\n",
       "      <td>1.022732</td>\n",
       "      <td>0.151990</td>\n",
       "      <td>1.419926</td>\n",
       "      <td>85.265647</td>\n",
       "    </tr>\n",
       "    <tr>\n",
       "      <th>3</th>\n",
       "      <td>iJLyR</td>\n",
       "      <td>-0.032172</td>\n",
       "      <td>0.139033</td>\n",
       "      <td>2.978566</td>\n",
       "      <td>168.620776</td>\n",
       "    </tr>\n",
       "    <tr>\n",
       "      <th>4</th>\n",
       "      <td>Xdl7t</td>\n",
       "      <td>1.988431</td>\n",
       "      <td>0.155413</td>\n",
       "      <td>4.751769</td>\n",
       "      <td>154.036647</td>\n",
       "    </tr>\n",
       "    <tr>\n",
       "      <th>...</th>\n",
       "      <td>...</td>\n",
       "      <td>...</td>\n",
       "      <td>...</td>\n",
       "      <td>...</td>\n",
       "      <td>...</td>\n",
       "    </tr>\n",
       "    <tr>\n",
       "      <th>99995</th>\n",
       "      <td>DLsed</td>\n",
       "      <td>0.971957</td>\n",
       "      <td>0.370953</td>\n",
       "      <td>6.075346</td>\n",
       "      <td>110.744026</td>\n",
       "    </tr>\n",
       "    <tr>\n",
       "      <th>99996</th>\n",
       "      <td>QKivN</td>\n",
       "      <td>1.392429</td>\n",
       "      <td>-0.382606</td>\n",
       "      <td>1.273912</td>\n",
       "      <td>122.346843</td>\n",
       "    </tr>\n",
       "    <tr>\n",
       "      <th>99997</th>\n",
       "      <td>3rnvd</td>\n",
       "      <td>1.029585</td>\n",
       "      <td>0.018787</td>\n",
       "      <td>-1.348308</td>\n",
       "      <td>64.375443</td>\n",
       "    </tr>\n",
       "    <tr>\n",
       "      <th>99998</th>\n",
       "      <td>7kl59</td>\n",
       "      <td>0.998163</td>\n",
       "      <td>-0.528582</td>\n",
       "      <td>1.583869</td>\n",
       "      <td>74.040764</td>\n",
       "    </tr>\n",
       "    <tr>\n",
       "      <th>99999</th>\n",
       "      <td>1CWhH</td>\n",
       "      <td>1.764754</td>\n",
       "      <td>-0.266417</td>\n",
       "      <td>5.722849</td>\n",
       "      <td>149.633246</td>\n",
       "    </tr>\n",
       "  </tbody>\n",
       "</table>\n",
       "<p>100000 rows × 5 columns</p>\n",
       "</div>"
      ],
      "text/plain": [
       "          id        f0        f1        f2     product\n",
       "0      txEyH  0.705745 -0.497823  1.221170  105.280062\n",
       "1      2acmU  1.334711 -0.340164  4.365080   73.037750\n",
       "2      409Wp  1.022732  0.151990  1.419926   85.265647\n",
       "3      iJLyR -0.032172  0.139033  2.978566  168.620776\n",
       "4      Xdl7t  1.988431  0.155413  4.751769  154.036647\n",
       "...      ...       ...       ...       ...         ...\n",
       "99995  DLsed  0.971957  0.370953  6.075346  110.744026\n",
       "99996  QKivN  1.392429 -0.382606  1.273912  122.346843\n",
       "99997  3rnvd  1.029585  0.018787 -1.348308   64.375443\n",
       "99998  7kl59  0.998163 -0.528582  1.583869   74.040764\n",
       "99999  1CWhH  1.764754 -0.266417  5.722849  149.633246\n",
       "\n",
       "[100000 rows x 5 columns]"
      ]
     },
     "metadata": {},
     "output_type": "display_data"
    },
    {
     "name": "stdout",
     "output_type": "stream",
     "text": [
      "<class 'pandas.core.frame.DataFrame'>\n",
      "RangeIndex: 100000 entries, 0 to 99999\n",
      "Data columns (total 5 columns):\n",
      " #   Column   Non-Null Count   Dtype  \n",
      "---  ------   --------------   -----  \n",
      " 0   id       100000 non-null  object \n",
      " 1   f0       100000 non-null  float64\n",
      " 2   f1       100000 non-null  float64\n",
      " 3   f2       100000 non-null  float64\n",
      " 4   product  100000 non-null  float64\n",
      "dtypes: float64(4), object(1)\n",
      "memory usage: 3.8+ MB\n",
      "None\n",
      "\n",
      "\n",
      "Duplicados totales: 0\n",
      "Duplicados en columna product: 0\n"
     ]
    }
   ],
   "source": [
    "# Región 0\n",
    "explor(region_0)"
   ]
  },
  {
   "cell_type": "markdown",
   "metadata": {},
   "source": [
    "### Exploración de datos: región 1"
   ]
  },
  {
   "cell_type": "code",
   "execution_count": 7,
   "metadata": {},
   "outputs": [
    {
     "data": {
      "text/html": [
       "<div>\n",
       "<style scoped>\n",
       "    .dataframe tbody tr th:only-of-type {\n",
       "        vertical-align: middle;\n",
       "    }\n",
       "\n",
       "    .dataframe tbody tr th {\n",
       "        vertical-align: top;\n",
       "    }\n",
       "\n",
       "    .dataframe thead th {\n",
       "        text-align: right;\n",
       "    }\n",
       "</style>\n",
       "<table border=\"1\" class=\"dataframe\">\n",
       "  <thead>\n",
       "    <tr style=\"text-align: right;\">\n",
       "      <th></th>\n",
       "      <th>id</th>\n",
       "      <th>f0</th>\n",
       "      <th>f1</th>\n",
       "      <th>f2</th>\n",
       "      <th>product</th>\n",
       "    </tr>\n",
       "  </thead>\n",
       "  <tbody>\n",
       "    <tr>\n",
       "      <th>0</th>\n",
       "      <td>kBEdx</td>\n",
       "      <td>-15.001348</td>\n",
       "      <td>-8.276000</td>\n",
       "      <td>-0.005876</td>\n",
       "      <td>3.179103</td>\n",
       "    </tr>\n",
       "    <tr>\n",
       "      <th>1</th>\n",
       "      <td>62mP7</td>\n",
       "      <td>14.272088</td>\n",
       "      <td>-3.475083</td>\n",
       "      <td>0.999183</td>\n",
       "      <td>26.953261</td>\n",
       "    </tr>\n",
       "    <tr>\n",
       "      <th>2</th>\n",
       "      <td>vyE1P</td>\n",
       "      <td>6.263187</td>\n",
       "      <td>-5.948386</td>\n",
       "      <td>5.001160</td>\n",
       "      <td>134.766305</td>\n",
       "    </tr>\n",
       "    <tr>\n",
       "      <th>3</th>\n",
       "      <td>KcrkZ</td>\n",
       "      <td>-13.081196</td>\n",
       "      <td>-11.506057</td>\n",
       "      <td>4.999415</td>\n",
       "      <td>137.945408</td>\n",
       "    </tr>\n",
       "    <tr>\n",
       "      <th>4</th>\n",
       "      <td>AHL4O</td>\n",
       "      <td>12.702195</td>\n",
       "      <td>-8.147433</td>\n",
       "      <td>5.004363</td>\n",
       "      <td>134.766305</td>\n",
       "    </tr>\n",
       "    <tr>\n",
       "      <th>...</th>\n",
       "      <td>...</td>\n",
       "      <td>...</td>\n",
       "      <td>...</td>\n",
       "      <td>...</td>\n",
       "      <td>...</td>\n",
       "    </tr>\n",
       "    <tr>\n",
       "      <th>99995</th>\n",
       "      <td>QywKC</td>\n",
       "      <td>9.535637</td>\n",
       "      <td>-6.878139</td>\n",
       "      <td>1.998296</td>\n",
       "      <td>53.906522</td>\n",
       "    </tr>\n",
       "    <tr>\n",
       "      <th>99996</th>\n",
       "      <td>ptvty</td>\n",
       "      <td>-10.160631</td>\n",
       "      <td>-12.558096</td>\n",
       "      <td>5.005581</td>\n",
       "      <td>137.945408</td>\n",
       "    </tr>\n",
       "    <tr>\n",
       "      <th>99997</th>\n",
       "      <td>09gWa</td>\n",
       "      <td>-7.378891</td>\n",
       "      <td>-3.084104</td>\n",
       "      <td>4.998651</td>\n",
       "      <td>137.945408</td>\n",
       "    </tr>\n",
       "    <tr>\n",
       "      <th>99998</th>\n",
       "      <td>rqwUm</td>\n",
       "      <td>0.665714</td>\n",
       "      <td>-6.152593</td>\n",
       "      <td>1.000146</td>\n",
       "      <td>30.132364</td>\n",
       "    </tr>\n",
       "    <tr>\n",
       "      <th>99999</th>\n",
       "      <td>relB0</td>\n",
       "      <td>-3.426139</td>\n",
       "      <td>-7.794274</td>\n",
       "      <td>-0.003299</td>\n",
       "      <td>3.179103</td>\n",
       "    </tr>\n",
       "  </tbody>\n",
       "</table>\n",
       "<p>100000 rows × 5 columns</p>\n",
       "</div>"
      ],
      "text/plain": [
       "          id         f0         f1        f2     product\n",
       "0      kBEdx -15.001348  -8.276000 -0.005876    3.179103\n",
       "1      62mP7  14.272088  -3.475083  0.999183   26.953261\n",
       "2      vyE1P   6.263187  -5.948386  5.001160  134.766305\n",
       "3      KcrkZ -13.081196 -11.506057  4.999415  137.945408\n",
       "4      AHL4O  12.702195  -8.147433  5.004363  134.766305\n",
       "...      ...        ...        ...       ...         ...\n",
       "99995  QywKC   9.535637  -6.878139  1.998296   53.906522\n",
       "99996  ptvty -10.160631 -12.558096  5.005581  137.945408\n",
       "99997  09gWa  -7.378891  -3.084104  4.998651  137.945408\n",
       "99998  rqwUm   0.665714  -6.152593  1.000146   30.132364\n",
       "99999  relB0  -3.426139  -7.794274 -0.003299    3.179103\n",
       "\n",
       "[100000 rows x 5 columns]"
      ]
     },
     "metadata": {},
     "output_type": "display_data"
    },
    {
     "name": "stdout",
     "output_type": "stream",
     "text": [
      "<class 'pandas.core.frame.DataFrame'>\n",
      "RangeIndex: 100000 entries, 0 to 99999\n",
      "Data columns (total 5 columns):\n",
      " #   Column   Non-Null Count   Dtype  \n",
      "---  ------   --------------   -----  \n",
      " 0   id       100000 non-null  object \n",
      " 1   f0       100000 non-null  float64\n",
      " 2   f1       100000 non-null  float64\n",
      " 3   f2       100000 non-null  float64\n",
      " 4   product  100000 non-null  float64\n",
      "dtypes: float64(4), object(1)\n",
      "memory usage: 3.8+ MB\n",
      "None\n",
      "\n",
      "\n",
      "Duplicados totales: 0\n",
      "Duplicados en columna product: 99988\n"
     ]
    }
   ],
   "source": [
    "# Región 1\n",
    "explor(region_1)"
   ]
  },
  {
   "cell_type": "markdown",
   "metadata": {},
   "source": [
    "### Exploración de datos: región 2"
   ]
  },
  {
   "cell_type": "code",
   "execution_count": 8,
   "metadata": {},
   "outputs": [
    {
     "data": {
      "text/html": [
       "<div>\n",
       "<style scoped>\n",
       "    .dataframe tbody tr th:only-of-type {\n",
       "        vertical-align: middle;\n",
       "    }\n",
       "\n",
       "    .dataframe tbody tr th {\n",
       "        vertical-align: top;\n",
       "    }\n",
       "\n",
       "    .dataframe thead th {\n",
       "        text-align: right;\n",
       "    }\n",
       "</style>\n",
       "<table border=\"1\" class=\"dataframe\">\n",
       "  <thead>\n",
       "    <tr style=\"text-align: right;\">\n",
       "      <th></th>\n",
       "      <th>id</th>\n",
       "      <th>f0</th>\n",
       "      <th>f1</th>\n",
       "      <th>f2</th>\n",
       "      <th>product</th>\n",
       "    </tr>\n",
       "  </thead>\n",
       "  <tbody>\n",
       "    <tr>\n",
       "      <th>0</th>\n",
       "      <td>fwXo0</td>\n",
       "      <td>-1.146987</td>\n",
       "      <td>0.963328</td>\n",
       "      <td>-0.828965</td>\n",
       "      <td>27.758673</td>\n",
       "    </tr>\n",
       "    <tr>\n",
       "      <th>1</th>\n",
       "      <td>WJtFt</td>\n",
       "      <td>0.262778</td>\n",
       "      <td>0.269839</td>\n",
       "      <td>-2.530187</td>\n",
       "      <td>56.069697</td>\n",
       "    </tr>\n",
       "    <tr>\n",
       "      <th>2</th>\n",
       "      <td>ovLUW</td>\n",
       "      <td>0.194587</td>\n",
       "      <td>0.289035</td>\n",
       "      <td>-5.586433</td>\n",
       "      <td>62.871910</td>\n",
       "    </tr>\n",
       "    <tr>\n",
       "      <th>3</th>\n",
       "      <td>q6cA6</td>\n",
       "      <td>2.236060</td>\n",
       "      <td>-0.553760</td>\n",
       "      <td>0.930038</td>\n",
       "      <td>114.572842</td>\n",
       "    </tr>\n",
       "    <tr>\n",
       "      <th>4</th>\n",
       "      <td>WPMUX</td>\n",
       "      <td>-0.515993</td>\n",
       "      <td>1.716266</td>\n",
       "      <td>5.899011</td>\n",
       "      <td>149.600746</td>\n",
       "    </tr>\n",
       "    <tr>\n",
       "      <th>...</th>\n",
       "      <td>...</td>\n",
       "      <td>...</td>\n",
       "      <td>...</td>\n",
       "      <td>...</td>\n",
       "      <td>...</td>\n",
       "    </tr>\n",
       "    <tr>\n",
       "      <th>99995</th>\n",
       "      <td>4GxBu</td>\n",
       "      <td>-1.777037</td>\n",
       "      <td>1.125220</td>\n",
       "      <td>6.263374</td>\n",
       "      <td>172.327046</td>\n",
       "    </tr>\n",
       "    <tr>\n",
       "      <th>99996</th>\n",
       "      <td>YKFjq</td>\n",
       "      <td>-1.261523</td>\n",
       "      <td>-0.894828</td>\n",
       "      <td>2.524545</td>\n",
       "      <td>138.748846</td>\n",
       "    </tr>\n",
       "    <tr>\n",
       "      <th>99997</th>\n",
       "      <td>tKPY3</td>\n",
       "      <td>-1.199934</td>\n",
       "      <td>-2.957637</td>\n",
       "      <td>5.219411</td>\n",
       "      <td>157.080080</td>\n",
       "    </tr>\n",
       "    <tr>\n",
       "      <th>99998</th>\n",
       "      <td>nmxp2</td>\n",
       "      <td>-2.419896</td>\n",
       "      <td>2.417221</td>\n",
       "      <td>-5.548444</td>\n",
       "      <td>51.795253</td>\n",
       "    </tr>\n",
       "    <tr>\n",
       "      <th>99999</th>\n",
       "      <td>V9kWn</td>\n",
       "      <td>-2.551421</td>\n",
       "      <td>-2.025625</td>\n",
       "      <td>6.090891</td>\n",
       "      <td>102.775767</td>\n",
       "    </tr>\n",
       "  </tbody>\n",
       "</table>\n",
       "<p>100000 rows × 5 columns</p>\n",
       "</div>"
      ],
      "text/plain": [
       "          id        f0        f1        f2     product\n",
       "0      fwXo0 -1.146987  0.963328 -0.828965   27.758673\n",
       "1      WJtFt  0.262778  0.269839 -2.530187   56.069697\n",
       "2      ovLUW  0.194587  0.289035 -5.586433   62.871910\n",
       "3      q6cA6  2.236060 -0.553760  0.930038  114.572842\n",
       "4      WPMUX -0.515993  1.716266  5.899011  149.600746\n",
       "...      ...       ...       ...       ...         ...\n",
       "99995  4GxBu -1.777037  1.125220  6.263374  172.327046\n",
       "99996  YKFjq -1.261523 -0.894828  2.524545  138.748846\n",
       "99997  tKPY3 -1.199934 -2.957637  5.219411  157.080080\n",
       "99998  nmxp2 -2.419896  2.417221 -5.548444   51.795253\n",
       "99999  V9kWn -2.551421 -2.025625  6.090891  102.775767\n",
       "\n",
       "[100000 rows x 5 columns]"
      ]
     },
     "metadata": {},
     "output_type": "display_data"
    },
    {
     "name": "stdout",
     "output_type": "stream",
     "text": [
      "<class 'pandas.core.frame.DataFrame'>\n",
      "RangeIndex: 100000 entries, 0 to 99999\n",
      "Data columns (total 5 columns):\n",
      " #   Column   Non-Null Count   Dtype  \n",
      "---  ------   --------------   -----  \n",
      " 0   id       100000 non-null  object \n",
      " 1   f0       100000 non-null  float64\n",
      " 2   f1       100000 non-null  float64\n",
      " 3   f2       100000 non-null  float64\n",
      " 4   product  100000 non-null  float64\n",
      "dtypes: float64(4), object(1)\n",
      "memory usage: 3.8+ MB\n",
      "None\n",
      "\n",
      "\n",
      "Duplicados totales: 0\n",
      "Duplicados en columna product: 0\n"
     ]
    }
   ],
   "source": [
    "# Región 2\n",
    "explor(region_2)"
   ]
  },
  {
   "cell_type": "markdown",
   "metadata": {},
   "source": [
    "<span style=color:blue>**Comentario**</span>\n",
    "\n",
    "- No hay datos ausentes ni filas totalmente duplicadas en ninguno de los datasets. \n",
    "- Los datos de producción de la región 1 están casi totalmente duplicados, pero esto se puede deber a que son datos sintéticos. No hay necesidad de modificarlos. \n",
    "- Los datos están listos para el entrenamiento del modelo."
   ]
  },
  {
   "cell_type": "markdown",
   "metadata": {},
   "source": [
    "## Entrenamiento del modelo\n",
    "\n",
    "- Se entrenará un modelo de regresión lineal.\n",
    "- Se crearán sets de entrenamiento y validación en proporción 75:25.\n",
    "- La columna id no será considerada como una característica para el entrenamiento del modelo. \n",
    "- Todos los pasos se incluirán dentro de una función para probar con cada dataset de cada región"
   ]
  },
  {
   "cell_type": "code",
   "execution_count": 9,
   "metadata": {},
   "outputs": [],
   "source": [
    "# Se crea una función para la creación de los sets de entranamiento y validación\n",
    "# y para el entrenamiento y predicciones del modelo\n",
    "\n",
    "def oil_model(data):\n",
    "\n",
    "    # Creación de sets de entrenamiento y validación 75:25\n",
    "    train, valid = train_test_split(data, test_size=0.25, random_state=7523)\n",
    "\n",
    "    # Creación de características para sets de entrenamiento y validación\n",
    "    train_features = train.drop(['id', 'product'], axis=1)\n",
    "    valid_features = valid.drop(['id', 'product'], axis=1)\n",
    "\n",
    "    # Creación de objetivos para sets de entrenamiento y validación\n",
    "    train_target = train['product']\n",
    "    valid_target = valid['product']\n",
    "\n",
    "    # Entrenamiento de modelo\n",
    "    model = LinearRegression()\n",
    "\n",
    "    model.fit(train_features, train_target)\n",
    "\n",
    "    # Predicciones del modelo\n",
    "    predicted_valid = model.predict(valid_features)\n",
    "\n",
    "    predicted_valid = pd.Series(predicted_valid)  # Conversión a Series\n",
    "\n",
    "    # Unión de las predicciones al conjunto de validación\n",
    "    valid.reset_index(drop=True, inplace=True)  # Reseteo del índice\n",
    "    valid['predicted'] = predicted_valid\n",
    "\n",
    "    # Volumen medio de reserva predicho\n",
    "    print('Volumen medio de reserva predicho:',\n",
    "          predicted_valid.mean(), 'miles de barriles')\n",
    "\n",
    "    # RMSE\n",
    "    print('RMSE del modelo:', mean_squared_error(\n",
    "        valid_target, predicted_valid)**0.5)\n",
    "\n",
    "    return valid"
   ]
  },
  {
   "cell_type": "markdown",
   "metadata": {},
   "source": [
    "## Prueba del modelo en cada región"
   ]
  },
  {
   "cell_type": "code",
   "execution_count": 10,
   "metadata": {},
   "outputs": [
    {
     "name": "stdout",
     "output_type": "stream",
     "text": [
      "Volumen medio de reserva predicho: 92.5329983660657 miles de barriles\n",
      "RMSE del modelo: 37.7502582166637\n"
     ]
    },
    {
     "name": "stderr",
     "output_type": "stream",
     "text": [
      "/tmp/ipykernel_328/3296840234.py:29: SettingWithCopyWarning: \n",
      "A value is trying to be set on a copy of a slice from a DataFrame.\n",
      "Try using .loc[row_indexer,col_indexer] = value instead\n",
      "\n",
      "See the caveats in the documentation: https://pandas.pydata.org/pandas-docs/stable/user_guide/indexing.html#returning-a-view-versus-a-copy\n",
      "  valid['predicted'] = predicted_valid\n"
     ]
    },
    {
     "data": {
      "text/html": [
       "<div>\n",
       "<style scoped>\n",
       "    .dataframe tbody tr th:only-of-type {\n",
       "        vertical-align: middle;\n",
       "    }\n",
       "\n",
       "    .dataframe tbody tr th {\n",
       "        vertical-align: top;\n",
       "    }\n",
       "\n",
       "    .dataframe thead th {\n",
       "        text-align: right;\n",
       "    }\n",
       "</style>\n",
       "<table border=\"1\" class=\"dataframe\">\n",
       "  <thead>\n",
       "    <tr style=\"text-align: right;\">\n",
       "      <th></th>\n",
       "      <th>id</th>\n",
       "      <th>f0</th>\n",
       "      <th>f1</th>\n",
       "      <th>f2</th>\n",
       "      <th>product</th>\n",
       "      <th>predicted</th>\n",
       "    </tr>\n",
       "  </thead>\n",
       "  <tbody>\n",
       "    <tr>\n",
       "      <th>0</th>\n",
       "      <td>AD8v4</td>\n",
       "      <td>0.441967</td>\n",
       "      <td>0.860617</td>\n",
       "      <td>3.230275</td>\n",
       "      <td>133.160978</td>\n",
       "      <td>88.540261</td>\n",
       "    </tr>\n",
       "    <tr>\n",
       "      <th>1</th>\n",
       "      <td>nrZ6t</td>\n",
       "      <td>0.887282</td>\n",
       "      <td>0.218935</td>\n",
       "      <td>-0.496768</td>\n",
       "      <td>158.608710</td>\n",
       "      <td>74.709313</td>\n",
       "    </tr>\n",
       "    <tr>\n",
       "      <th>2</th>\n",
       "      <td>9Q25g</td>\n",
       "      <td>-0.965680</td>\n",
       "      <td>0.339794</td>\n",
       "      <td>4.159681</td>\n",
       "      <td>144.467416</td>\n",
       "      <td>96.542853</td>\n",
       "    </tr>\n",
       "    <tr>\n",
       "      <th>3</th>\n",
       "      <td>QJVYl</td>\n",
       "      <td>1.081133</td>\n",
       "      <td>0.226231</td>\n",
       "      <td>6.345830</td>\n",
       "      <td>132.168147</td>\n",
       "      <td>120.510807</td>\n",
       "    </tr>\n",
       "    <tr>\n",
       "      <th>4</th>\n",
       "      <td>i3ekw</td>\n",
       "      <td>0.809710</td>\n",
       "      <td>-0.564610</td>\n",
       "      <td>0.492799</td>\n",
       "      <td>48.113475</td>\n",
       "      <td>91.969643</td>\n",
       "    </tr>\n",
       "    <tr>\n",
       "      <th>...</th>\n",
       "      <td>...</td>\n",
       "      <td>...</td>\n",
       "      <td>...</td>\n",
       "      <td>...</td>\n",
       "      <td>...</td>\n",
       "      <td>...</td>\n",
       "    </tr>\n",
       "    <tr>\n",
       "      <th>24995</th>\n",
       "      <td>v9XXY</td>\n",
       "      <td>-0.990798</td>\n",
       "      <td>0.136410</td>\n",
       "      <td>0.597581</td>\n",
       "      <td>114.954625</td>\n",
       "      <td>75.803783</td>\n",
       "    </tr>\n",
       "    <tr>\n",
       "      <th>24996</th>\n",
       "      <td>yp58A</td>\n",
       "      <td>0.196555</td>\n",
       "      <td>-0.125365</td>\n",
       "      <td>3.323205</td>\n",
       "      <td>107.170716</td>\n",
       "      <td>102.082751</td>\n",
       "    </tr>\n",
       "    <tr>\n",
       "      <th>24997</th>\n",
       "      <td>Bx2dy</td>\n",
       "      <td>0.801548</td>\n",
       "      <td>0.484978</td>\n",
       "      <td>4.009034</td>\n",
       "      <td>66.985114</td>\n",
       "      <td>100.363149</td>\n",
       "    </tr>\n",
       "    <tr>\n",
       "      <th>24998</th>\n",
       "      <td>s8wDS</td>\n",
       "      <td>0.340588</td>\n",
       "      <td>-0.366831</td>\n",
       "      <td>7.270300</td>\n",
       "      <td>175.839209</td>\n",
       "      <td>132.086839</td>\n",
       "    </tr>\n",
       "    <tr>\n",
       "      <th>24999</th>\n",
       "      <td>cu4LN</td>\n",
       "      <td>0.937933</td>\n",
       "      <td>0.161142</td>\n",
       "      <td>-0.205188</td>\n",
       "      <td>112.988181</td>\n",
       "      <td>77.643588</td>\n",
       "    </tr>\n",
       "  </tbody>\n",
       "</table>\n",
       "<p>25000 rows × 6 columns</p>\n",
       "</div>"
      ],
      "text/plain": [
       "          id        f0        f1        f2     product   predicted\n",
       "0      AD8v4  0.441967  0.860617  3.230275  133.160978   88.540261\n",
       "1      nrZ6t  0.887282  0.218935 -0.496768  158.608710   74.709313\n",
       "2      9Q25g -0.965680  0.339794  4.159681  144.467416   96.542853\n",
       "3      QJVYl  1.081133  0.226231  6.345830  132.168147  120.510807\n",
       "4      i3ekw  0.809710 -0.564610  0.492799   48.113475   91.969643\n",
       "...      ...       ...       ...       ...         ...         ...\n",
       "24995  v9XXY -0.990798  0.136410  0.597581  114.954625   75.803783\n",
       "24996  yp58A  0.196555 -0.125365  3.323205  107.170716  102.082751\n",
       "24997  Bx2dy  0.801548  0.484978  4.009034   66.985114  100.363149\n",
       "24998  s8wDS  0.340588 -0.366831  7.270300  175.839209  132.086839\n",
       "24999  cu4LN  0.937933  0.161142 -0.205188  112.988181   77.643588\n",
       "\n",
       "[25000 rows x 6 columns]"
      ]
     },
     "execution_count": 10,
     "metadata": {},
     "output_type": "execute_result"
    }
   ],
   "source": [
    "# Predicción en región 0\n",
    "predicted_r0 = oil_model(region_0)\n",
    "\n",
    "predicted_r0"
   ]
  },
  {
   "cell_type": "code",
   "execution_count": 11,
   "metadata": {},
   "outputs": [
    {
     "name": "stdout",
     "output_type": "stream",
     "text": [
      "Volumen medio de reserva predicho: 68.60240693309099 miles de barriles\n",
      "RMSE del modelo: 0.886662778052821\n"
     ]
    },
    {
     "name": "stderr",
     "output_type": "stream",
     "text": [
      "/tmp/ipykernel_328/3296840234.py:29: SettingWithCopyWarning: \n",
      "A value is trying to be set on a copy of a slice from a DataFrame.\n",
      "Try using .loc[row_indexer,col_indexer] = value instead\n",
      "\n",
      "See the caveats in the documentation: https://pandas.pydata.org/pandas-docs/stable/user_guide/indexing.html#returning-a-view-versus-a-copy\n",
      "  valid['predicted'] = predicted_valid\n"
     ]
    },
    {
     "data": {
      "text/html": [
       "<div>\n",
       "<style scoped>\n",
       "    .dataframe tbody tr th:only-of-type {\n",
       "        vertical-align: middle;\n",
       "    }\n",
       "\n",
       "    .dataframe tbody tr th {\n",
       "        vertical-align: top;\n",
       "    }\n",
       "\n",
       "    .dataframe thead th {\n",
       "        text-align: right;\n",
       "    }\n",
       "</style>\n",
       "<table border=\"1\" class=\"dataframe\">\n",
       "  <thead>\n",
       "    <tr style=\"text-align: right;\">\n",
       "      <th></th>\n",
       "      <th>id</th>\n",
       "      <th>f0</th>\n",
       "      <th>f1</th>\n",
       "      <th>f2</th>\n",
       "      <th>product</th>\n",
       "      <th>predicted</th>\n",
       "    </tr>\n",
       "  </thead>\n",
       "  <tbody>\n",
       "    <tr>\n",
       "      <th>0</th>\n",
       "      <td>uFmdD</td>\n",
       "      <td>17.451730</td>\n",
       "      <td>1.169742</td>\n",
       "      <td>3.004342</td>\n",
       "      <td>80.859783</td>\n",
       "      <td>80.069448</td>\n",
       "    </tr>\n",
       "    <tr>\n",
       "      <th>1</th>\n",
       "      <td>QQx0G</td>\n",
       "      <td>2.668819</td>\n",
       "      <td>-7.676667</td>\n",
       "      <td>0.002069</td>\n",
       "      <td>0.000000</td>\n",
       "      <td>1.484859</td>\n",
       "    </tr>\n",
       "    <tr>\n",
       "      <th>2</th>\n",
       "      <td>2dBLV</td>\n",
       "      <td>6.397868</td>\n",
       "      <td>-5.947768</td>\n",
       "      <td>3.995454</td>\n",
       "      <td>107.813044</td>\n",
       "      <td>108.538423</td>\n",
       "    </tr>\n",
       "    <tr>\n",
       "      <th>3</th>\n",
       "      <td>OXRnE</td>\n",
       "      <td>-3.202532</td>\n",
       "      <td>-4.846561</td>\n",
       "      <td>2.999107</td>\n",
       "      <td>84.038886</td>\n",
       "      <td>83.054283</td>\n",
       "    </tr>\n",
       "    <tr>\n",
       "      <th>4</th>\n",
       "      <td>gH65b</td>\n",
       "      <td>8.033331</td>\n",
       "      <td>-1.946525</td>\n",
       "      <td>4.996578</td>\n",
       "      <td>134.766305</td>\n",
       "      <td>135.198548</td>\n",
       "    </tr>\n",
       "    <tr>\n",
       "      <th>...</th>\n",
       "      <td>...</td>\n",
       "      <td>...</td>\n",
       "      <td>...</td>\n",
       "      <td>...</td>\n",
       "      <td>...</td>\n",
       "      <td>...</td>\n",
       "    </tr>\n",
       "    <tr>\n",
       "      <th>24995</th>\n",
       "      <td>uHW7a</td>\n",
       "      <td>-2.104012</td>\n",
       "      <td>-6.678341</td>\n",
       "      <td>2.998816</td>\n",
       "      <td>84.038886</td>\n",
       "      <td>82.926064</td>\n",
       "    </tr>\n",
       "    <tr>\n",
       "      <th>24996</th>\n",
       "      <td>uYSId</td>\n",
       "      <td>12.104167</td>\n",
       "      <td>-10.577179</td>\n",
       "      <td>0.005957</td>\n",
       "      <td>0.000000</td>\n",
       "      <td>0.282086</td>\n",
       "    </tr>\n",
       "    <tr>\n",
       "      <th>24997</th>\n",
       "      <td>wPVaI</td>\n",
       "      <td>5.582582</td>\n",
       "      <td>-4.931579</td>\n",
       "      <td>4.994188</td>\n",
       "      <td>134.766305</td>\n",
       "      <td>135.553473</td>\n",
       "    </tr>\n",
       "    <tr>\n",
       "      <th>24998</th>\n",
       "      <td>SjV5r</td>\n",
       "      <td>-8.993127</td>\n",
       "      <td>-1.448482</td>\n",
       "      <td>-0.005114</td>\n",
       "      <td>3.179103</td>\n",
       "      <td>2.851035</td>\n",
       "    </tr>\n",
       "    <tr>\n",
       "      <th>24999</th>\n",
       "      <td>gSoVe</td>\n",
       "      <td>16.648770</td>\n",
       "      <td>0.352853</td>\n",
       "      <td>3.998442</td>\n",
       "      <td>107.813044</td>\n",
       "      <td>106.996876</td>\n",
       "    </tr>\n",
       "  </tbody>\n",
       "</table>\n",
       "<p>25000 rows × 6 columns</p>\n",
       "</div>"
      ],
      "text/plain": [
       "          id         f0         f1        f2     product   predicted\n",
       "0      uFmdD  17.451730   1.169742  3.004342   80.859783   80.069448\n",
       "1      QQx0G   2.668819  -7.676667  0.002069    0.000000    1.484859\n",
       "2      2dBLV   6.397868  -5.947768  3.995454  107.813044  108.538423\n",
       "3      OXRnE  -3.202532  -4.846561  2.999107   84.038886   83.054283\n",
       "4      gH65b   8.033331  -1.946525  4.996578  134.766305  135.198548\n",
       "...      ...        ...        ...       ...         ...         ...\n",
       "24995  uHW7a  -2.104012  -6.678341  2.998816   84.038886   82.926064\n",
       "24996  uYSId  12.104167 -10.577179  0.005957    0.000000    0.282086\n",
       "24997  wPVaI   5.582582  -4.931579  4.994188  134.766305  135.553473\n",
       "24998  SjV5r  -8.993127  -1.448482 -0.005114    3.179103    2.851035\n",
       "24999  gSoVe  16.648770   0.352853  3.998442  107.813044  106.996876\n",
       "\n",
       "[25000 rows x 6 columns]"
      ]
     },
     "execution_count": 11,
     "metadata": {},
     "output_type": "execute_result"
    }
   ],
   "source": [
    "# Predicción en región 1\n",
    "predicted_r1 = oil_model(region_1)\n",
    "\n",
    "predicted_r1"
   ]
  },
  {
   "cell_type": "code",
   "execution_count": 12,
   "metadata": {},
   "outputs": [
    {
     "name": "stdout",
     "output_type": "stream",
     "text": [
      "Volumen medio de reserva predicho: 94.98902973033655 miles de barriles\n",
      "RMSE del modelo: 40.01807637953782\n"
     ]
    },
    {
     "name": "stderr",
     "output_type": "stream",
     "text": [
      "/tmp/ipykernel_328/3296840234.py:29: SettingWithCopyWarning: \n",
      "A value is trying to be set on a copy of a slice from a DataFrame.\n",
      "Try using .loc[row_indexer,col_indexer] = value instead\n",
      "\n",
      "See the caveats in the documentation: https://pandas.pydata.org/pandas-docs/stable/user_guide/indexing.html#returning-a-view-versus-a-copy\n",
      "  valid['predicted'] = predicted_valid\n"
     ]
    },
    {
     "data": {
      "text/html": [
       "<div>\n",
       "<style scoped>\n",
       "    .dataframe tbody tr th:only-of-type {\n",
       "        vertical-align: middle;\n",
       "    }\n",
       "\n",
       "    .dataframe tbody tr th {\n",
       "        vertical-align: top;\n",
       "    }\n",
       "\n",
       "    .dataframe thead th {\n",
       "        text-align: right;\n",
       "    }\n",
       "</style>\n",
       "<table border=\"1\" class=\"dataframe\">\n",
       "  <thead>\n",
       "    <tr style=\"text-align: right;\">\n",
       "      <th></th>\n",
       "      <th>id</th>\n",
       "      <th>f0</th>\n",
       "      <th>f1</th>\n",
       "      <th>f2</th>\n",
       "      <th>product</th>\n",
       "      <th>predicted</th>\n",
       "    </tr>\n",
       "  </thead>\n",
       "  <tbody>\n",
       "    <tr>\n",
       "      <th>0</th>\n",
       "      <td>yC57A</td>\n",
       "      <td>2.120790</td>\n",
       "      <td>1.478765</td>\n",
       "      <td>1.997981</td>\n",
       "      <td>129.750630</td>\n",
       "      <td>92.009281</td>\n",
       "    </tr>\n",
       "    <tr>\n",
       "      <th>1</th>\n",
       "      <td>NicFE</td>\n",
       "      <td>-1.284138</td>\n",
       "      <td>1.212803</td>\n",
       "      <td>1.120910</td>\n",
       "      <td>100.924334</td>\n",
       "      <td>86.951250</td>\n",
       "    </tr>\n",
       "    <tr>\n",
       "      <th>2</th>\n",
       "      <td>6RVCC</td>\n",
       "      <td>2.912084</td>\n",
       "      <td>2.080017</td>\n",
       "      <td>4.941228</td>\n",
       "      <td>175.747487</td>\n",
       "      <td>108.932552</td>\n",
       "    </tr>\n",
       "    <tr>\n",
       "      <th>3</th>\n",
       "      <td>bvzHX</td>\n",
       "      <td>-0.359538</td>\n",
       "      <td>3.957401</td>\n",
       "      <td>6.620198</td>\n",
       "      <td>116.812567</td>\n",
       "      <td>118.476832</td>\n",
       "    </tr>\n",
       "    <tr>\n",
       "      <th>4</th>\n",
       "      <td>1Ko1Z</td>\n",
       "      <td>1.061781</td>\n",
       "      <td>-0.544080</td>\n",
       "      <td>3.064629</td>\n",
       "      <td>159.478407</td>\n",
       "      <td>98.259843</td>\n",
       "    </tr>\n",
       "    <tr>\n",
       "      <th>...</th>\n",
       "      <td>...</td>\n",
       "      <td>...</td>\n",
       "      <td>...</td>\n",
       "      <td>...</td>\n",
       "      <td>...</td>\n",
       "      <td>...</td>\n",
       "    </tr>\n",
       "    <tr>\n",
       "      <th>24995</th>\n",
       "      <td>cXjXr</td>\n",
       "      <td>-1.258131</td>\n",
       "      <td>-2.764622</td>\n",
       "      <td>2.664362</td>\n",
       "      <td>78.283277</td>\n",
       "      <td>96.064676</td>\n",
       "    </tr>\n",
       "    <tr>\n",
       "      <th>24996</th>\n",
       "      <td>uG1fG</td>\n",
       "      <td>-2.110648</td>\n",
       "      <td>0.499163</td>\n",
       "      <td>6.157952</td>\n",
       "      <td>127.054073</td>\n",
       "      <td>115.997804</td>\n",
       "    </tr>\n",
       "    <tr>\n",
       "      <th>24997</th>\n",
       "      <td>AFPd4</td>\n",
       "      <td>-0.165162</td>\n",
       "      <td>-2.224614</td>\n",
       "      <td>0.446706</td>\n",
       "      <td>35.479544</td>\n",
       "      <td>83.268241</td>\n",
       "    </tr>\n",
       "    <tr>\n",
       "      <th>24998</th>\n",
       "      <td>CN29K</td>\n",
       "      <td>-3.469810</td>\n",
       "      <td>-0.925302</td>\n",
       "      <td>0.818412</td>\n",
       "      <td>80.498243</td>\n",
       "      <td>85.315411</td>\n",
       "    </tr>\n",
       "    <tr>\n",
       "      <th>24999</th>\n",
       "      <td>RLGUY</td>\n",
       "      <td>-1.835075</td>\n",
       "      <td>0.190286</td>\n",
       "      <td>2.927294</td>\n",
       "      <td>79.074589</td>\n",
       "      <td>97.409410</td>\n",
       "    </tr>\n",
       "  </tbody>\n",
       "</table>\n",
       "<p>25000 rows × 6 columns</p>\n",
       "</div>"
      ],
      "text/plain": [
       "          id        f0        f1        f2     product   predicted\n",
       "0      yC57A  2.120790  1.478765  1.997981  129.750630   92.009281\n",
       "1      NicFE -1.284138  1.212803  1.120910  100.924334   86.951250\n",
       "2      6RVCC  2.912084  2.080017  4.941228  175.747487  108.932552\n",
       "3      bvzHX -0.359538  3.957401  6.620198  116.812567  118.476832\n",
       "4      1Ko1Z  1.061781 -0.544080  3.064629  159.478407   98.259843\n",
       "...      ...       ...       ...       ...         ...         ...\n",
       "24995  cXjXr -1.258131 -2.764622  2.664362   78.283277   96.064676\n",
       "24996  uG1fG -2.110648  0.499163  6.157952  127.054073  115.997804\n",
       "24997  AFPd4 -0.165162 -2.224614  0.446706   35.479544   83.268241\n",
       "24998  CN29K -3.469810 -0.925302  0.818412   80.498243   85.315411\n",
       "24999  RLGUY -1.835075  0.190286  2.927294   79.074589   97.409410\n",
       "\n",
       "[25000 rows x 6 columns]"
      ]
     },
     "execution_count": 12,
     "metadata": {},
     "output_type": "execute_result"
    }
   ],
   "source": [
    "# Predicción en región 2\n",
    "predicted_r2 = oil_model(region_2)\n",
    "\n",
    "predicted_r2"
   ]
  },
  {
   "cell_type": "markdown",
   "metadata": {},
   "source": [
    "<span style=color:blue>**Comentario**</span>\n",
    "\n",
    "- La producción promedio estimada más alta se obtuvo en la región 2, con un volumen promedio predicho de 94.989 miles de barriles.\n",
    "- El RMSE más bajo se obtuvo en la región 1, con un valor de 0.8866 miles de barriles, debido a la cantidad tan alta de valores duplicados.\n",
    "- En la región 0 se obtuvo un volumen medio casi tan alto como el de la región 2, con un RMSE más bajo. "
   ]
  },
  {
   "cell_type": "markdown",
   "metadata": {},
   "source": [
    "## Cálculo de ganancias \n",
    "\n",
    "**Consideraciones:**\n",
    "\n",
    "1. El presupuesto para el desarrollo de 200 pozos petroleros es de 100 millones de dólares.\n",
    "2. Un barril de materias primas genera 4.5 USD de ingresos. El ingreso de una unidad de producto es de 4500 dólares (el volumen de reservas está expresado en miles de barriles).\n",
    "3. Dada la inversión de 100 millones por 200 pozos petrolíferos, de media un pozo petrolífero debe producir al menos un valor de 500,000 dólares en unidades para evitar pérdidas (esto es equivalente a 111.1 unidades). \n",
    "4. **Para el cálculo del beneficio, restaré del ingreso de los 200 pozos, la inversión estimada de $100,000,000 USD.**"
   ]
  },
  {
   "cell_type": "markdown",
   "metadata": {},
   "source": [
    "### Selección de pozos y región"
   ]
  },
  {
   "cell_type": "code",
   "execution_count": 13,
   "metadata": {},
   "outputs": [],
   "source": [
    "# Función para seleccionar los 200 pozos con mejores predicciones, calcular el volumen total\n",
    "# de producción, y el beneficio bruto de los 200 pozos seleccionados\n",
    "\n",
    "def profit_200(data, print_results = False):\n",
    "    \"\"\"\n",
    "    La función toma como argumento el dataset de predicciones para cada región y devuelve\n",
    "    el revenue como resultado. \n",
    "\n",
    "    En caso de seleccionar print_results como True (False por default), imprimirá dos enunciados para el volumen \n",
    "    producido y para el beneficio bruto generado. \n",
    "\n",
    "    \"\"\"\n",
    "\n",
    "    # Ordenar de forma descendente por valores predichos\n",
    "    data.sort_values(by='predicted', ascending=False, inplace=True)\n",
    "\n",
    "    data.reset_index(inplace=True, drop = True) # Reseteo de índice\n",
    "\n",
    "    # Seleccionar los valores reales de las primeras 200 predicciones\n",
    "    selected_200 = data.head(200)\n",
    "\n",
    "    # Análisis de los 200 pozos seleccionados\n",
    "\n",
    "    # Volumen de producción\n",
    "    volume = selected_200['product'].sum()\n",
    "\n",
    "    # Beneficio bruto  = volumen producido * ingreso - inversión\n",
    "    profit = volume * 4500 - 100000000 \n",
    "\n",
    "    # Imprimir el resultado\n",
    "    if print_results==True:\n",
    "        print(f'Volumen producido en la región: {volume:.0f} miles de barriles')\n",
    "        print(f'Beneficio bruto de la región: ${profit:.2f} dólares')    \n",
    "\n",
    "    return profit"
   ]
  },
  {
   "cell_type": "code",
   "execution_count": 14,
   "metadata": {},
   "outputs": [
    {
     "name": "stdout",
     "output_type": "stream",
     "text": [
      "Volumen producido en la región: 29665 miles de barriles\n",
      "Beneficio bruto de la región: $33493290.79 dólares\n"
     ]
    },
    {
     "name": "stderr",
     "output_type": "stream",
     "text": [
      "/tmp/ipykernel_328/3490443676.py:15: SettingWithCopyWarning: \n",
      "A value is trying to be set on a copy of a slice from a DataFrame\n",
      "\n",
      "See the caveats in the documentation: https://pandas.pydata.org/pandas-docs/stable/user_guide/indexing.html#returning-a-view-versus-a-copy\n",
      "  data.sort_values(by='predicted', ascending=False, inplace=True)\n"
     ]
    },
    {
     "data": {
      "text/plain": [
       "33493290.78701909"
      ]
     },
     "execution_count": 14,
     "metadata": {},
     "output_type": "execute_result"
    }
   ],
   "source": [
    "# Beneficio bruto de los 200 pozos seleccionados en la región 0\n",
    "profit_200(predicted_r0, print_results=True)"
   ]
  },
  {
   "cell_type": "code",
   "execution_count": 15,
   "metadata": {},
   "outputs": [
    {
     "name": "stdout",
     "output_type": "stream",
     "text": [
      "Volumen producido en la región: 27589 miles de barriles\n",
      "Beneficio bruto de la región: $24150866.97 dólares\n"
     ]
    },
    {
     "name": "stderr",
     "output_type": "stream",
     "text": [
      "/tmp/ipykernel_328/3490443676.py:15: SettingWithCopyWarning: \n",
      "A value is trying to be set on a copy of a slice from a DataFrame\n",
      "\n",
      "See the caveats in the documentation: https://pandas.pydata.org/pandas-docs/stable/user_guide/indexing.html#returning-a-view-versus-a-copy\n",
      "  data.sort_values(by='predicted', ascending=False, inplace=True)\n"
     ]
    },
    {
     "data": {
      "text/plain": [
       "24150866.966815114"
      ]
     },
     "execution_count": 15,
     "metadata": {},
     "output_type": "execute_result"
    }
   ],
   "source": [
    "# Beneficio bruto de los 200 pozos seleccionados en la región 1\n",
    "profit_200(predicted_r1, print_results=True)"
   ]
  },
  {
   "cell_type": "code",
   "execution_count": 16,
   "metadata": {},
   "outputs": [
    {
     "name": "stdout",
     "output_type": "stream",
     "text": [
      "Volumen producido en la región: 27647 miles de barriles\n",
      "Beneficio bruto de la región: $24411614.05 dólares\n"
     ]
    },
    {
     "name": "stderr",
     "output_type": "stream",
     "text": [
      "/tmp/ipykernel_328/3490443676.py:15: SettingWithCopyWarning: \n",
      "A value is trying to be set on a copy of a slice from a DataFrame\n",
      "\n",
      "See the caveats in the documentation: https://pandas.pydata.org/pandas-docs/stable/user_guide/indexing.html#returning-a-view-versus-a-copy\n",
      "  data.sort_values(by='predicted', ascending=False, inplace=True)\n"
     ]
    },
    {
     "data": {
      "text/plain": [
       "24411614.05242254"
      ]
     },
     "execution_count": 16,
     "metadata": {},
     "output_type": "execute_result"
    }
   ],
   "source": [
    "# Beneficio bruto de los 200 pozos seleccionados en la región 2\n",
    "profit_200(predicted_r2, print_results=True)"
   ]
  },
  {
   "cell_type": "markdown",
   "metadata": {},
   "source": [
    "<span style=color:blue>**Comentario**</span>\n",
    "\n",
    "- La región 0 tiene el volumen de producción y beneficio bruto más alto de las 3 regiones, seguido de la región 2.\n",
    "- **Se podría proponer a la región 0 como la candidata para el desarrollo de los 200 pozos.**"
   ]
  },
  {
   "cell_type": "markdown",
   "metadata": {},
   "source": [
    "## Riesgos y ganancias por región (bootstrapping)\n",
    "\n",
    "- Al explorar la región, se lleva a cabo un estudio de 500 puntos con la selección de los mejores 200 puntos para el cálculo del beneficio.\n",
    "- Después de la evaluación de riesgo, mantén solo las regiones con riesgo de pérdidas inferior al 2.5%. De las que se ajustan a los criterios, se debe seleccionar la región con el beneficio promedio más alto."
   ]
  },
  {
   "cell_type": "code",
   "execution_count": 17,
   "metadata": {},
   "outputs": [],
   "source": [
    "# Función para hallar la distribución de los beneficios, su promedio y el intervalo de confianza usando\n",
    "# la técnica de bootstrapping, también calcula el riesgo de pérdida de la región\n",
    "\n",
    "def bootstrap_gains(data):\n",
    "    \"\"\"\n",
    "    La función toma como entrada el dataframe de predicciones para cada región e imprime cuatro resultados:\n",
    "\n",
    "    - el promedio del remuestreo\n",
    "    - intervalo de confianza al 95%\n",
    "    - el riesgo de pérdida en %\n",
    "    - gráfico de la distribución del promedio de los beneficios\n",
    "\n",
    "    \"\"\"\n",
    "\n",
    "    # Parámetros para bootstrapping\n",
    "    n_bootstraps = 1000\n",
    "    n = 500\n",
    "\n",
    "    # Bootstrapping\n",
    "    bootstrapped_gains = []\n",
    "    for i in range(n_bootstraps):\n",
    "        resample = data.sample(n=n, replace=True, random_state=i)\n",
    "        revenue = profit_200(resample)\n",
    "        bootstrapped_gains.append(revenue)\n",
    "\n",
    "    bootstrapped_gains = np.array(bootstrapped_gains)\n",
    "\n",
    "    # Promedio de ganancias remuestreadas\n",
    "    bootstrapped_gains_mean = np.mean(bootstrapped_gains)\n",
    "\n",
    "    print(\n",
    "        f'Promedio de beneficios brutos por pozo petrolífero:\\n {bootstrapped_gains_mean:.2f}')\n",
    "    \n",
    "    print('\\n')\n",
    "\n",
    "    # Intervalo de confianza al 95%\n",
    "\n",
    "    lower = np.percentile(bootstrapped_gains, 2.5)\n",
    "    upper = np.percentile(bootstrapped_gains, 97.5)\n",
    "\n",
    "    print(f'Intervalo de confianza al 95%:\\n [{lower:.2f}, {upper:.2f}]')\n",
    "\n",
    "    print('\\n')\n",
    "\n",
    "    # Cálculo de riesgo\n",
    "\n",
    "    risk = (bootstrapped_gains < 0).sum() * 100 / n_bootstraps\n",
    "    print('Riesgo de pérdida de la región:', risk,'%')\n",
    "\n",
    "    # Gráfico de la distribución de ganancias\n",
    "\n",
    "    fig = plt.figure(figsize=(8, 4))\n",
    "    sns.histplot(data=bootstrapped_gains, stat='density')\n",
    "    plt.title('Distribución de beneficios por pozo petrolífero')\n",
    "    plt.xlabel('Beneficios brutos (miles de dólares)')\n",
    "\n",
    "    return "
   ]
  },
  {
   "cell_type": "code",
   "execution_count": 18,
   "metadata": {},
   "outputs": [
    {
     "name": "stdout",
     "output_type": "stream",
     "text": [
      "Promedio de beneficios brutos por pozo petrolífero:\n",
      " 3839764.89\n",
      "\n",
      "\n",
      "Intervalo de confianza al 95%:\n",
      " [-1074895.12, 8849669.41]\n",
      "\n",
      "\n",
      "Riesgo de pérdida de la región: 6.7 %\n"
     ]
    },
    {
     "data": {
      "image/png": "[encoded data removed]",
      "text/plain": [
       "<Figure size 800x400 with 1 Axes>"
      ]
     },
     "metadata": {},
     "output_type": "display_data"
    }
   ],
   "source": [
    "b0 = bootstrap_gains(predicted_r0)"
   ]
  },
  {
   "cell_type": "code",
   "execution_count": 19,
   "metadata": {},
   "outputs": [
    {
     "name": "stdout",
     "output_type": "stream",
     "text": [
      "Promedio de beneficios brutos por pozo petrolífero:\n",
      " 4121516.79\n",
      "\n",
      "\n",
      "Intervalo de confianza al 95%:\n",
      " [182596.66, 8187279.79]\n",
      "\n",
      "\n",
      "Riesgo de pérdida de la región: 2.1 %\n"
     ]
    },
    {
     "data": {
      "image/png": "[encoded data removed]",
      "text/plain": [
       "<Figure size 800x400 with 1 Axes>"
      ]
     },
     "metadata": {},
     "output_type": "display_data"
    }
   ],
   "source": [
    "bootstrap_gains(predicted_r1)"
   ]
  },
  {
   "cell_type": "code",
   "execution_count": 20,
   "metadata": {},
   "outputs": [
    {
     "name": "stdout",
     "output_type": "stream",
     "text": [
      "Promedio de beneficios brutos por pozo petrolífero:\n",
      " 3726538.78\n",
      "\n",
      "\n",
      "Intervalo de confianza al 95%:\n",
      " [-1252108.09, 8992899.72]\n",
      "\n",
      "\n",
      "Riesgo de pérdida de la región: 7.9 %\n"
     ]
    },
    {
     "data": {
      "image/png": "[encoded data removed]",
      "text/plain": [
       "<Figure size 800x400 with 1 Axes>"
      ]
     },
     "metadata": {},
     "output_type": "display_data"
    }
   ],
   "source": [
    "bootstrap_gains(predicted_r2)"
   ]
  },
  {
   "cell_type": "markdown",
   "metadata": {},
   "source": [
    "<span style=color:blue>**Comentario**</span>\n",
    "\n",
    "- El riesgo de pérdida más alto lo tiene la región 2 con 7.9%, seguido de la región 0 con 6.7%\n",
    "- La región con el riesgo de pérdida más bajo fue la región 1, con 2.1%\n",
    "- **La región 1 es la región apropiada para la inversión y desarrollo de los 200 pozos petrolíferos con beneficios dentro de un intervalo de confianza al 95% de [182596.66, 8187279.79]**"
   ]
  },
  {
   "cell_type": "markdown",
   "metadata": {},
   "source": [
    "## Conclusiones del proyecto"
   ]
  },
  {
   "cell_type": "markdown",
   "metadata": {},
   "source": [
    "1. A pesar de tener datos duplicados en el volumen de producción real de la región 1, estos valores no afectan al buen funcionamiento del bootstrap ni, por lo tanto, a la conclusión del proyecto. \n",
    "2. Durante el entrenamiento del modelo, la región 2 generó el volumen predicho más alto, sin embargo el beneficio bruto de esa región fue superado por la región 0.\n",
    "3. Durante el cálculo de ganancias, parecía que la región 0 sería la más apropiada para el desarrollo de los 200 pozos, al generar el beneficio bruto más alto de las 3 regiones, pero al final no fue así.\n",
    "4. Después de la técnica de bootstrapping, la región más apropiada para el desarrollo de los 200 pozos fue la región 1, con un riesgo de pérdida de 2.1% e ingresos en el intervalo de [182596.66, 8187279.79] dólares. "
   ]
  }
 ],
 "metadata": {
  "ExecuteTimeLog": [
   {
    "duration": 1074,
    "start_time": "2024-09-13T03:37:22.319Z"
   },
   {
    "duration": 517,
    "start_time": "2024-09-13T03:37:23.395Z"
   },
   {
    "duration": 0,
    "start_time": "2024-09-13T03:37:23.915Z"
   },
   {
    "duration": 0,
    "start_time": "2024-09-13T03:37:23.917Z"
   },
   {
    "duration": 0,
    "start_time": "2024-09-13T03:37:23.918Z"
   },
   {
    "duration": 0,
    "start_time": "2024-09-13T03:37:23.920Z"
   },
   {
    "duration": 0,
    "start_time": "2024-09-13T03:37:23.921Z"
   },
   {
    "duration": 0,
    "start_time": "2024-09-13T03:37:23.923Z"
   },
   {
    "duration": 0,
    "start_time": "2024-09-13T03:37:23.924Z"
   },
   {
    "duration": 0,
    "start_time": "2024-09-13T03:37:23.925Z"
   },
   {
    "duration": 0,
    "start_time": "2024-09-13T03:37:23.927Z"
   },
   {
    "duration": 0,
    "start_time": "2024-09-13T03:37:23.929Z"
   },
   {
    "duration": 0,
    "start_time": "2024-09-13T03:37:23.930Z"
   },
   {
    "duration": 0,
    "start_time": "2024-09-13T03:37:23.931Z"
   },
   {
    "duration": 0,
    "start_time": "2024-09-13T03:37:23.932Z"
   },
   {
    "duration": 0,
    "start_time": "2024-09-13T03:37:23.933Z"
   },
   {
    "duration": 0,
    "start_time": "2024-09-13T03:37:23.934Z"
   },
   {
    "duration": 0,
    "start_time": "2024-09-13T03:37:23.935Z"
   },
   {
    "duration": 4,
    "start_time": "2024-09-13T03:37:43.526Z"
   },
   {
    "duration": 217,
    "start_time": "2024-09-13T03:37:43.532Z"
   },
   {
    "duration": 4,
    "start_time": "2024-09-13T03:37:43.751Z"
   },
   {
    "duration": 58,
    "start_time": "2024-09-13T03:37:43.757Z"
   },
   {
    "duration": 43,
    "start_time": "2024-09-13T03:37:43.817Z"
   },
   {
    "duration": 64,
    "start_time": "2024-09-13T03:37:43.862Z"
   },
   {
    "duration": 4,
    "start_time": "2024-09-13T03:37:43.928Z"
   },
   {
    "duration": 78,
    "start_time": "2024-09-13T03:37:43.934Z"
   },
   {
    "duration": 110,
    "start_time": "2024-09-13T03:37:44.015Z"
   },
   {
    "duration": 109,
    "start_time": "2024-09-13T03:37:44.128Z"
   },
   {
    "duration": 5,
    "start_time": "2024-09-13T03:37:44.311Z"
   },
   {
    "duration": 10,
    "start_time": "2024-09-13T03:37:44.318Z"
   },
   {
    "duration": 8,
    "start_time": "2024-09-13T03:37:44.330Z"
   },
   {
    "duration": 8,
    "start_time": "2024-09-13T03:37:44.340Z"
   },
   {
    "duration": 62,
    "start_time": "2024-09-13T03:37:44.350Z"
   },
   {
    "duration": 1004,
    "start_time": "2024-09-13T03:37:44.414Z"
   },
   {
    "duration": 856,
    "start_time": "2024-09-13T03:37:45.420Z"
   },
   {
    "duration": 859,
    "start_time": "2024-09-13T03:37:46.278Z"
   }
  ],
  "kernelspec": {
   "display_name": "Python 3 (ipykernel)",
   "language": "python",
   "name": "python3"
  },
  "language_info": {
   "codemirror_mode": {
    "name": "ipython",
    "version": 3
   },
   "file_extension": ".py",
   "mimetype": "text/x-python",
   "name": "python",
   "nbconvert_exporter": "python",
   "pygments_lexer": "ipython3",
   "version": "3.9.19"
  },
  "toc": {
   "base_numbering": 1,
   "nav_menu": {},
   "number_sections": true,
   "sideBar": true,
   "skip_h1_title": true,
   "title_cell": "Table of Contents",
   "title_sidebar": "Contents",
   "toc_cell": false,
   "toc_position": {},
   "toc_section_display": true,
   "toc_window_display": false
  }
 },
 "nbformat": 4,
 "nbformat_minor": 2
}
